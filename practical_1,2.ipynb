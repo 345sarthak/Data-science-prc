{
  "nbformat": 4,
  "nbformat_minor": 0,
  "metadata": {
    "colab": {
      "provenance": [],
      "authorship_tag": "ABX9TyNl0sC6bhHNsAx+jo1Bp+Je",
      "include_colab_link": true
    },
    "kernelspec": {
      "name": "python3",
      "display_name": "Python 3"
    },
    "language_info": {
      "name": "python"
    }
  },
  "cells": [
    {
      "cell_type": "markdown",
      "metadata": {
        "id": "view-in-github",
        "colab_type": "text"
      },
      "source": [
        "<a href=\"https://colab.research.google.com/github/345sarthak/Data-science-prc/blob/main/practical_1%2C2.ipynb\" target=\"_parent\"><img src=\"https://colab.research.google.com/assets/colab-badge.svg\" alt=\"Open In Colab\"/></a>"
      ]
    },
    {
      "cell_type": "code",
      "execution_count": 4,
      "metadata": {
        "colab": {
          "base_uri": "https://localhost:8080/"
        },
        "id": "ma2ts7UCKv79",
        "outputId": "fe5caf50-75df-4a20-fae8-4517616fb3c4"
      },
      "outputs": [
        {
          "output_type": "stream",
          "name": "stdout",
          "text": [
            "Orignal array:\n",
            "[list(['c1', 'c2', 'c3', 'c4']) list([0, 1, 2, 3, 4])\n",
            " list([90, 91, 93, 94]) list([500, 600, 300])]\n"
          ]
        },
        {
          "output_type": "stream",
          "name": "stderr",
          "text": [
            "<ipython-input-4-700b98d8867b>:8: VisibleDeprecationWarning: Creating an ndarray from ragged nested sequences (which is a list-or-tuple of lists-or-tuples-or ndarrays with different lengths or shapes) is deprecated. If you meant to do this, you must specify 'dtype=object' when creating the ndarray.\n",
            "  a=np.array([['c1','c2','c3','c4'],[0,1,2,3,4],[90,91,93,94],[500,600,300]])\n"
          ]
        }
      ],
      "source": [
        "#Practical 1\n",
        "#Write a numpy program to swap a row and col of s give array in reverse order.\n",
        "#row r1=c1,c2,c3,c4\n",
        "#r2=0,1,2,3,4\n",
        "#r3=90,91,93,94\n",
        "#r4=500,600,300\n",
        "import numpy as np\n",
        "a=np.array([['c1','c2','c3','c4'],[0,1,2,3,4],[90,91,93,94],[500,600,300]])\n",
        "print('Orignal array:')\n",
        "print(a)"
      ]
    },
    {
      "cell_type": "code",
      "source": [
        "#Practical 1\n",
        "#Write a numpy program to swap a row and col of s give array in reverse order.\n",
        "#row r1=c1,c2,c3,c4\n",
        "#r2=0,1,2,3,4\n",
        "#r3=90,91,93,94\n",
        "#r4=500,600,300,200\n",
        "import numpy as np\n",
        "a=np.array([['c1','c2','c3','c4'],[0,1,3,4],[90,91,93,94],[500,600,300,200]])\n",
        "print('Orignal array:')\n",
        "print(a)"
      ],
      "metadata": {
        "colab": {
          "base_uri": "https://localhost:8080/"
        },
        "id": "4N1UpxFAM-g9",
        "outputId": "4efea5d1-405e-40e7-d9d2-80ef27a5c859"
      },
      "execution_count": 9,
      "outputs": [
        {
          "output_type": "stream",
          "name": "stdout",
          "text": [
            "Orignal array:\n",
            "[['c1' 'c2' 'c3' 'c4']\n",
            " ['0' '1' '3' '4']\n",
            " ['90' '91' '93' '94']\n",
            " ['500' '600' '300' '200']]\n"
          ]
        }
      ]
    },
    {
      "cell_type": "code",
      "source": [
        "print(\"\\\\swap the row of the said array in revers order:\")\n",
        "swap_row=a[::,::-1]\n",
        "print(swap_row)"
      ],
      "metadata": {
        "colab": {
          "base_uri": "https://localhost:8080/"
        },
        "id": "blLbESYxOiCE",
        "outputId": "97ce54f4-fc7e-45e1-f8ce-56dd84c9459e"
      },
      "execution_count": 10,
      "outputs": [
        {
          "output_type": "stream",
          "name": "stdout",
          "text": [
            "\\swap the row of the said array in revers order:\n",
            "[['c4' 'c3' 'c2' 'c1']\n",
            " ['4' '3' '1' '0']\n",
            " ['94' '93' '91' '90']\n",
            " ['200' '300' '600' '500']]\n"
          ]
        }
      ]
    },
    {
      "cell_type": "code",
      "source": [
        "print(\"\\\\swap the column of the said array in revers order:\")\n",
        "swap_column=a[::,::-1]\n",
        "print(swap_column)"
      ],
      "metadata": {
        "colab": {
          "base_uri": "https://localhost:8080/"
        },
        "id": "8byYXfiIPGAk",
        "outputId": "f00f3c52-36c6-4daf-fc59-1bab9fe10934"
      },
      "execution_count": 14,
      "outputs": [
        {
          "output_type": "stream",
          "name": "stdout",
          "text": [
            "\\swap the row of the said array in revers order:\n",
            "[['c4' 'c3' 'c2' 'c1']\n",
            " ['4' '3' '1' '0']\n",
            " ['94' '93' '91' '90']\n",
            " ['200' '300' '600' '500']]\n"
          ]
        }
      ]
    },
    {
      "cell_type": "code",
      "source": [
        "print(\"\\\\swap the row and column of the said array in revers order:\")\n",
        "swap_row_column=a[::-1,::-1]\n",
        "print(swap_row_column)"
      ],
      "metadata": {
        "colab": {
          "base_uri": "https://localhost:8080/"
        },
        "id": "-hqso35iPy1U",
        "outputId": "9d766360-85f5-4b5d-e45d-fc35fbfa20f6"
      },
      "execution_count": 15,
      "outputs": [
        {
          "output_type": "stream",
          "name": "stdout",
          "text": [
            "\\swap the row of the said array in revers order:\n",
            "[['200' '300' '600' '500']\n",
            " ['94' '93' '91' '90']\n",
            " ['4' '3' '1' '0']\n",
            " ['c4' 'c3' 'c2' 'c1']]\n"
          ]
        }
      ]
    },
    {
      "cell_type": "code",
      "source": [
        "print('swap 2nd and 4th')\n",
        "print('Orignal array')\n",
        "print(a)\n",
        "a[[1,3],:]=a[[3,1],:]\n",
        "print(a)"
      ],
      "metadata": {
        "colab": {
          "base_uri": "https://localhost:8080/"
        },
        "id": "cYUNuyiiQY9z",
        "outputId": "a00ef396-47f6-47fc-adc5-13bf7cf9d663"
      },
      "execution_count": 16,
      "outputs": [
        {
          "output_type": "stream",
          "name": "stdout",
          "text": [
            "swap 2nd and 4th\n",
            "Orignal array\n",
            "[['c1' 'c2' 'c3' 'c4']\n",
            " ['0' '1' '3' '4']\n",
            " ['90' '91' '93' '94']\n",
            " ['500' '600' '300' '200']]\n",
            "[['c1' 'c2' 'c3' 'c4']\n",
            " ['500' '600' '300' '200']\n",
            " ['90' '91' '93' '94']\n",
            " ['0' '1' '3' '4']]\n"
          ]
        }
      ]
    },
    {
      "cell_type": "code",
      "source": [
        "#practical 2\n",
        "#Write a numpy program to sort an given array by the nth column\n",
        "import numpy as np\n",
        "print('Orignal array')\n",
        "arr=np.random.randint(0,20,(3,3))\n",
        "print(arr)"
      ],
      "metadata": {
        "colab": {
          "base_uri": "https://localhost:8080/"
        },
        "id": "sQ8DMxy_SGU0",
        "outputId": "1f2a0559-a8cc-4db5-d4d2-9757f8768b69"
      },
      "execution_count": 20,
      "outputs": [
        {
          "output_type": "stream",
          "name": "stdout",
          "text": [
            "Orignal array\n",
            "[[17 17 18]\n",
            " [ 1 10  4]\n",
            " [ 9  6 19]]\n"
          ]
        }
      ]
    },
    {
      "cell_type": "code",
      "source": [
        "print(arr[arr[:,1].argsort()])"
      ],
      "metadata": {
        "colab": {
          "base_uri": "https://localhost:8080/"
        },
        "id": "uA1aEivdU3mF",
        "outputId": "9bb9a8f5-7e62-4d53-cc14-37331d224236"
      },
      "execution_count": 21,
      "outputs": [
        {
          "output_type": "stream",
          "name": "stdout",
          "text": [
            "[[ 9  6 19]\n",
            " [ 1 10  4]\n",
            " [17 17 18]]\n"
          ]
        }
      ]
    },
    {
      "cell_type": "code",
      "source": [
        "#Practical 2.2\n",
        "#Write a numpy program to partition a given array in a specified position."
      ],
      "metadata": {
        "id": "uEAYYAN0VwHj"
      },
      "execution_count": null,
      "outputs": []
    },
    {
      "cell_type": "code",
      "source": [
        "import numpy as np\n",
        "sarth=np.array([[70,20,50,12,30,-11,60,50,40,25,35]])\n",
        "print(\"Original array:\")\n",
        "print(sarth)"
      ],
      "metadata": {
        "colab": {
          "base_uri": "https://localhost:8080/"
        },
        "id": "yoIlg094WIE7",
        "outputId": "a02a74eb-7da4-4498-d50b-2252bacef82b"
      },
      "execution_count": 23,
      "outputs": [
        {
          "output_type": "stream",
          "name": "stdout",
          "text": [
            "Original array:\n",
            "[[ 70  20  50  12  30 -11  60  50  40  25  35]]\n"
          ]
        }
      ]
    },
    {
      "cell_type": "code",
      "source": [
        "print(\"\\nAfter partition on 4 the position\")\n",
        "print(np.partition(sarth,4))"
      ],
      "metadata": {
        "colab": {
          "base_uri": "https://localhost:8080/"
        },
        "id": "EkOD1CDNWxUi",
        "outputId": "4cb6b790-32fb-4842-ffb5-2fda1fb0421e"
      },
      "execution_count": 27,
      "outputs": [
        {
          "output_type": "stream",
          "name": "stdout",
          "text": [
            "\n",
            "After partition on 4 the position\n",
            "[[ 12  20 -11  25  30  35  60  50  40  50  70]]\n"
          ]
        }
      ]
    }
  ]
}